{
 "cells": [
  {
   "cell_type": "code",
   "execution_count": 5,
   "id": "9ec46fa2",
   "metadata": {},
   "outputs": [],
   "source": [
    "import numpy as np \n",
    "import pandas as pd\n",
    "import matplotlib.pyplot as plt\n",
    "import seaborn as sns\n",
    "from IPython.display import Markdown as md"
   ]
  },
  {
   "cell_type": "code",
   "execution_count": 2,
   "id": "300d36ba",
   "metadata": {},
   "outputs": [],
   "source": [
    "df = pd.read_excel('week6.xlsx')"
   ]
  },
  {
   "cell_type": "code",
   "execution_count": 3,
   "id": "3db225c6",
   "metadata": {
    "scrolled": true
   },
   "outputs": [
    {
     "data": {
      "text/html": [
       "<div>\n",
       "<style scoped>\n",
       "    .dataframe tbody tr th:only-of-type {\n",
       "        vertical-align: middle;\n",
       "    }\n",
       "\n",
       "    .dataframe tbody tr th {\n",
       "        vertical-align: top;\n",
       "    }\n",
       "\n",
       "    .dataframe thead th {\n",
       "        text-align: right;\n",
       "    }\n",
       "</style>\n",
       "<table border=\"1\" class=\"dataframe\">\n",
       "  <thead>\n",
       "    <tr style=\"text-align: right;\">\n",
       "      <th></th>\n",
       "      <th>country</th>\n",
       "      <th>Region</th>\n",
       "      <th>Surface area (km2)</th>\n",
       "      <th>Population in thousands (2017)</th>\n",
       "      <th>GDP per capita (current US$)</th>\n",
       "      <th>Agricultural production index</th>\n",
       "      <th>International trade: Imports (million US$)</th>\n",
       "    </tr>\n",
       "  </thead>\n",
       "  <tbody>\n",
       "    <tr>\n",
       "      <th>0</th>\n",
       "      <td>Afghanistan</td>\n",
       "      <td>SouthernAsia</td>\n",
       "      <td>652864.0</td>\n",
       "      <td>35530.0</td>\n",
       "      <td>623.2</td>\n",
       "      <td>125.0</td>\n",
       "      <td>3568.0</td>\n",
       "    </tr>\n",
       "    <tr>\n",
       "      <th>1</th>\n",
       "      <td>Albania</td>\n",
       "      <td>SouthernEurope</td>\n",
       "      <td>28748.0</td>\n",
       "      <td>2930.0</td>\n",
       "      <td>3984.2</td>\n",
       "      <td>134.0</td>\n",
       "      <td>4669.0</td>\n",
       "    </tr>\n",
       "    <tr>\n",
       "      <th>2</th>\n",
       "      <td>Algeria</td>\n",
       "      <td>NorthernAfrica</td>\n",
       "      <td>2381741.0</td>\n",
       "      <td>41318.0</td>\n",
       "      <td>4154.1</td>\n",
       "      <td>160.0</td>\n",
       "      <td>47091.0</td>\n",
       "    </tr>\n",
       "    <tr>\n",
       "      <th>3</th>\n",
       "      <td>Angola</td>\n",
       "      <td>MiddleAfrica</td>\n",
       "      <td>1246700.0</td>\n",
       "      <td>29784.0</td>\n",
       "      <td>4714.1</td>\n",
       "      <td>175.0</td>\n",
       "      <td>8790.0</td>\n",
       "    </tr>\n",
       "    <tr>\n",
       "      <th>4</th>\n",
       "      <td>Antigua and Barbuda</td>\n",
       "      <td>Caribbean</td>\n",
       "      <td>442.0</td>\n",
       "      <td>102.0</td>\n",
       "      <td>14764.5</td>\n",
       "      <td>88.0</td>\n",
       "      <td>491.0</td>\n",
       "    </tr>\n",
       "  </tbody>\n",
       "</table>\n",
       "</div>"
      ],
      "text/plain": [
       "               country          Region  Surface area (km2)  \\\n",
       "0          Afghanistan    SouthernAsia            652864.0   \n",
       "1              Albania  SouthernEurope             28748.0   \n",
       "2              Algeria  NorthernAfrica           2381741.0   \n",
       "3               Angola    MiddleAfrica           1246700.0   \n",
       "4  Antigua and Barbuda       Caribbean               442.0   \n",
       "\n",
       "   Population in thousands (2017)  GDP per capita (current US$)  \\\n",
       "0                         35530.0                         623.2   \n",
       "1                          2930.0                        3984.2   \n",
       "2                         41318.0                        4154.1   \n",
       "3                         29784.0                        4714.1   \n",
       "4                           102.0                       14764.5   \n",
       "\n",
       "   Agricultural production index   International trade: Imports (million US$)  \n",
       "0                           125.0                                      3568.0  \n",
       "1                           134.0                                      4669.0  \n",
       "2                           160.0                                     47091.0  \n",
       "3                           175.0                                      8790.0  \n",
       "4                            88.0                                       491.0  "
      ]
     },
     "execution_count": 3,
     "metadata": {},
     "output_type": "execute_result"
    }
   ],
   "source": [
    "df.head()"
   ]
  },
  {
   "cell_type": "markdown",
   "id": "81af6014",
   "metadata": {},
   "source": [
    "#### 1. Find out how many countries are there in the dataset."
   ]
  },
  {
   "cell_type": "code",
   "execution_count": 6,
   "id": "bd623d41",
   "metadata": {},
   "outputs": [
    {
     "data": {
      "text/markdown": [
       "Number of countries: 196"
      ],
      "text/plain": [
       "<IPython.core.display.Markdown object>"
      ]
     },
     "execution_count": 6,
     "metadata": {},
     "output_type": "execute_result"
    }
   ],
   "source": [
    "md(f\"Number of countries: {len(set(df['country']))}\")"
   ]
  },
  {
   "cell_type": "markdown",
   "id": "9d3905b7",
   "metadata": {},
   "source": [
    "#### 2. Examine the data by using visualizations"
   ]
  },
  {
   "cell_type": "markdown",
   "id": "737c8625",
   "metadata": {},
   "source": [
    "##### a. Top 10 Largest Countries in the dataset (by population)"
   ]
  },
  {
   "cell_type": "code",
   "execution_count": 76,
   "id": "810d24c1",
   "metadata": {},
   "outputs": [
    {
     "data": {
      "image/png": "[encoded data removed]",
      "text/plain": [
       "<Figure size 432x288 with 1 Axes>"
      ]
     },
     "metadata": {
      "needs_background": "light"
     },
     "output_type": "display_data"
    },
    {
     "data": {
      "text/markdown": [
       "Population of the largest country is 1409517000."
      ],
      "text/plain": [
       "<IPython.core.display.Markdown object>"
      ]
     },
     "execution_count": 76,
     "metadata": {},
     "output_type": "execute_result"
    }
   ],
   "source": [
    "largest_countries = df.nlargest(10,'Population in thousands (2017)')\n",
    "a = largest_countries['country']\n",
    "b = largest_countries['Population in thousands (2017)']\n",
    "\n",
    "plt.bar(a, b)\n",
    "\n",
    "plt.title('Top 10 countries based on population')\n",
    "plt.xticks(rotation=90)\n",
    "\n",
    "plt.ylabel('Population in thousands')\n",
    "plt.show()\n",
    "\n",
    "md(f\"Population of the largest country is {int(b.max() * 1000)}.\")"
   ]
  },
  {
   "cell_type": "markdown",
   "id": "9298d589",
   "metadata": {},
   "source": [
    "##### b. Top 10 Smallest Countries in the dataset (by surface area)"
   ]
  },
  {
   "cell_type": "code",
   "execution_count": 46,
   "id": "d44473fe",
   "metadata": {},
   "outputs": [
    {
     "data": {
      "image/png": "[encoded data removed]",
      "text/plain": [
       "<Figure size 432x288 with 1 Axes>"
      ]
     },
     "metadata": {},
     "output_type": "display_data"
    }
   ],
   "source": [
    "smallest_countries = df.nsmallest(10,'Surface area (km2)')['Surface area (km2)']\n",
    "\n",
    "plt.pie(smallest_countries, labels = df.nsmallest(10,'Surface area (km2)')['country'])\n",
    "plt.title('Top 10 Smallest Countries in the World (by surface area)')\n",
    "plt.show()"
   ]
  },
  {
   "cell_type": "markdown",
   "id": "ffcabf33",
   "metadata": {},
   "source": [
    "##### c. Pie chart of number of countries in a region"
   ]
  },
  {
   "cell_type": "code",
   "execution_count": 61,
   "id": "960364f5",
   "metadata": {},
   "outputs": [
    {
     "data": {
      "image/png": "[encoded data removed]",
      "text/plain": [
       "<Figure size 432x288 with 1 Axes>"
      ]
     },
     "metadata": {},
     "output_type": "display_data"
    }
   ],
   "source": [
    "count_of_countries_wrt_region = df[['Region','country']].groupby('Region')['country'].count()\n",
    "\n",
    "plt.pie(count_of_countries_wrt_region,labels = count_of_countries_wrt_region)\n",
    "plt.title('Pie chart of number of countries in a region')\n",
    "plt.show()\n",
    "\n",
    "\n"
   ]
  },
  {
   "cell_type": "markdown",
   "id": "0e66b1a1",
   "metadata": {},
   "source": [
    "#### 3. Find out how many countries wrt the region are available in the dataset"
   ]
  },
  {
   "cell_type": "code",
   "execution_count": 41,
   "id": "9fef6c73",
   "metadata": {},
   "outputs": [
    {
     "name": "stdout",
     "output_type": "stream",
     "text": [
      "Region\n",
      "Caribbean            16\n",
      "CentralAmerica        8\n",
      "CentralAsia           5\n",
      "EasternAfrica        17\n",
      "EasternAsia           7\n",
      "EasternEurope        10\n",
      "Melanesia             5\n",
      "Micronesia            4\n",
      "MiddleAfrica          9\n",
      "NorthernAfrica        5\n",
      "NorthernAmerica       4\n",
      "NorthernEurope       10\n",
      "Oceania               2\n",
      "Polynesia             5\n",
      "South-easternAsia    11\n",
      "SouthAmerica         12\n",
      "SouthernAfrica        5\n",
      "SouthernAsia          9\n",
      "SouthernEurope       12\n",
      "WesternAfrica        15\n",
      "WesternAsia          18\n",
      "WesternEurope         7\n",
      "Name: country, dtype: int64\n"
     ]
    }
   ],
   "source": [
    "count_of_countries_wrt_region = df[['Region','country']].groupby('Region')['country'].count()\n",
    "print(count_of_countries_wrt_region)"
   ]
  },
  {
   "cell_type": "markdown",
   "id": "049a0d4c",
   "metadata": {},
   "source": [
    "#### 4. On average which region has the highest :"
   ]
  },
  {
   "cell_type": "markdown",
   "id": "d8a88cd3",
   "metadata": {},
   "source": [
    "##### a. GDP per capita (current US$)"
   ]
  },
  {
   "cell_type": "code",
   "execution_count": 21,
   "id": "24c2ad59",
   "metadata": {},
   "outputs": [
    {
     "data": {
      "text/markdown": [
       "NorthernAmerica region has the highest GDP per capita."
      ],
      "text/plain": [
       "<IPython.core.display.Markdown object>"
      ]
     },
     "execution_count": 21,
     "metadata": {},
     "output_type": "execute_result"
    }
   ],
   "source": [
    "GDP_per_capita_wrt_region = df[['Region','GDP per capita (current US$)']].groupby('Region')['GDP per capita (current US$)'].mean()\n",
    "md(f\"{GDP_per_capita_wrt_region.idxmax()} region has the highest GDP per capita.\")"
   ]
  },
  {
   "cell_type": "markdown",
   "id": "fbcb108b",
   "metadata": {},
   "source": [
    "##### b. International Trade: imports (million US$)"
   ]
  },
  {
   "cell_type": "code",
   "execution_count": 20,
   "id": "c43f830f",
   "metadata": {},
   "outputs": [
    {
     "data": {
      "text/markdown": [
       "NorthernAmerica region has the highest international trade."
      ],
      "text/plain": [
       "<IPython.core.display.Markdown object>"
      ]
     },
     "execution_count": 20,
     "metadata": {},
     "output_type": "execute_result"
    }
   ],
   "source": [
    "trade_wrt_region = df[['Region','International trade: Imports (million US$)']].groupby('Region')['International trade: Imports (million US$)'].mean()\n",
    "md(f\"{trade_wrt_region.idxmax()} region has the highest international trade.\")"
   ]
  },
  {
   "cell_type": "markdown",
   "id": "7da636b2",
   "metadata": {},
   "source": [
    "#### 5. Find out which region has more consistency wrt GDP per capita (current US$)"
   ]
  },
  {
   "cell_type": "code",
   "execution_count": 22,
   "id": "bc12f1e5",
   "metadata": {},
   "outputs": [
    {
     "data": {
      "text/markdown": [
       "WesternAfrica region is the most consistent with respect to GDP."
      ],
      "text/plain": [
       "<IPython.core.display.Markdown object>"
      ]
     },
     "execution_count": 22,
     "metadata": {},
     "output_type": "execute_result"
    }
   ],
   "source": [
    "GDP_per_capita_wrt_region_std = df[['Region','GDP per capita (current US$)']].groupby('Region')['GDP per capita (current US$)'].std()\n",
    "md(f\"{GDP_per_capita_wrt_region_std.idxmin()} region is the most consistent with respect to GDP.\")"
   ]
  }
 ],
 "metadata": {
  "kernelspec": {
   "display_name": "Python 3 (ipykernel)",
   "language": "python",
   "name": "python3"
  },
  "language_info": {
   "codemirror_mode": {
    "name": "ipython",
    "version": 3
   },
   "file_extension": ".py",
   "mimetype": "text/x-python",
   "name": "python",
   "nbconvert_exporter": "python",
   "pygments_lexer": "ipython3",
   "version": "3.9.7"
  }
 },
 "nbformat": 4,
 "nbformat_minor": 5
}
